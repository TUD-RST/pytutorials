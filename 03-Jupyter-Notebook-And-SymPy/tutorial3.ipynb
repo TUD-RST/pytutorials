{
 "cells": [
  {
   "cell_type": "markdown",
   "metadata": {},
   "source": [
    "# Control Theory Tutorial  (DRAFT, NOT APPROVED YET)\n",
    "## The Cart-Pole System - Python for System Analysis"
   ]
  },
  {
   "cell_type": "markdown",
   "metadata": {},
   "source": [
    "## 1. Introduction\n",
    "The goal of this tutorial is to teach the usage of the programming language Python as a\n",
    "tool for developing and simulating control systems. The following topics are covered:\n",
    "\n",
    "- Derivation of the equations of motion through Lagrangian mechanics and scientific computing\n",
    "- Linearization of the resulting nonlinear system equations to obtain a linear system in state space form\n",
    "- Investigation of the control theoretic properties of the system (equilibria, observability, etc.)\n",
    "\n",
    "Please refer to the [Python List-Dictionary-Tuple tutorial](http://cs231n.github.io/python-numpy-tutorial/#python-containers) and the [NumPy Array tutorial](http://cs231n.github.io/python-numpy-tutorial/#numpy)\n",
    "if you are not familiar with the handling of containers and arrays in Python. If you are\n",
    "completely new to Python consult the very basic introduction on [tutorialspoint](https://www.tutorialspoint.com/python/index.htm). If you don't have any experience with Jupyter Notebook to get started it is recommended to watch the following tutorial:"
   ]
  },
  {
   "cell_type": "code",
   "execution_count": 1,
   "metadata": {},
   "outputs": [
    {
     "data": {
      "text/html": [
       "\n",
       "        <iframe\n",
       "            width=\"400\"\n",
       "            height=\"300\"\n",
       "            src=\"https://www.youtube.com/embed/HW29067qVWk\"\n",
       "            frameborder=\"0\"\n",
       "            allowfullscreen\n",
       "        ></iframe>\n",
       "        "
      ],
      "text/plain": [
       "<IPython.lib.display.YouTubeVideo at 0x106496b38>"
      ]
     },
     "execution_count": 1,
     "metadata": {},
     "output_type": "execute_result"
    }
   ],
   "source": [
    "from IPython.lib.display import YouTubeVideo\n",
    "YouTubeVideo('HW29067qVWk')"
   ]
  },
  {
   "cell_type": "markdown",
   "metadata": {},
   "source": [
    "# 2. The Cart-Pole System\n",
    "The cart-pole system, as shown in the figure is a common control theory benchmark system, and has different attributes, that make it particular interesting for teaching control theoretic principles and methods. \n",
    "\n",
    "The pole is attached to a cart at its end. By applying a force $F$ to the cart through a moment $M$, the cart can be moved in the $x$-direction. The objective is to control the cart, such that the pole, starting in the upright position, doesn't fall over. Another objective is the swing-up manover, where the pole starts from the downright position and has to be brought in the upright position and kept there. The second objective involves nonlinear control theory and is much harder to accomplish than the first."
   ]
  },
  {
   "cell_type": "markdown",
   "metadata": {},
   "source": [
    "![Cart-Pole System](img/cart-pole.png)"
   ]
  },
  {
   "cell_type": "markdown",
   "metadata": {},
   "source": [
    "## 2.1 Derivation of the equations of motion\n",
    "To derive the equations of motion, Lagrangian mechanics are used. At first the position vectors $\\mathbf{p}_i$ of all $i$ rigid bodies' center of mass have to be defined (in this case $i=0,1$). Then the velocities $\\dot{\\mathbf{p}}_i$ are derived by differentiation. After that the kinetic energy $T$ and potential energy $V$ are described to form the Lagrangian $L$. In the last step the equations of motions are derived by Lagrange's equations of the second kind."
   ]
  },
  {
   "cell_type": "markdown",
   "metadata": {},
   "source": [
    "At first the necessary Python libraries are imported."
   ]
  },
  {
   "cell_type": "code",
   "execution_count": 2,
   "metadata": {},
   "outputs": [],
   "source": [
    "import numpy as np\n",
    "import sympy as sp\n",
    "from sympy import sin, cos, pi, Function\n",
    "from sympy.interactive import printing\n",
    "printing.init_printing()"
   ]
  },
  {
   "cell_type": "markdown",
   "metadata": {},
   "source": [
    "Then symbolic expressions for all system parameters, time and force are defined."
   ]
  },
  {
   "cell_type": "code",
   "execution_count": 3,
   "metadata": {},
   "outputs": [],
   "source": [
    "t = sp.Symbol('t') # time\n",
    "params = sp.symbols('m0, m1, J1, l1, a1, g, d0, d1') # system parameters\n",
    "m0, m1, J1, l1, a1, g, d0, d1 = params\n",
    "params_values = [(m0, 3.34), (m1, 0.3583), (J1, 0.0379999),\n",
    "                 (l1, 0.5), (a1, 0.43), (g, 9.81), (d0, 0.1), (d1, 0.006588)]\n",
    "# force\n",
    "F = sp.Symbol('F')"
   ]
  },
  {
   "cell_type": "markdown",
   "metadata": {},
   "source": [
    "The system has 2 degrees of freedom, $x_0$ and $\\varphi_1$. The generelized coordinates $q_i$ are therefore:\n",
    "\\begin{align}\n",
    "&q_0 =  x_0 &q_1 =  \\varphi_1\n",
    "\\end{align}\n",
    "Because these are time dependent, they and there derivative up to order 2 are implemented as functions."
   ]
  },
  {
   "cell_type": "code",
   "execution_count": 4,
   "metadata": {},
   "outputs": [],
   "source": [
    "q0_t = Function('q0')(t)   \n",
    "dq0_t = q0_t.diff(t)\n",
    "ddq0_t = q0_t.diff(t,2)\n",
    "q1_t = Function('q1')(t) \n",
    "dq1_t = q1_t.diff(t)\n",
    "ddq1_t = q1_t.diff(t,2)"
   ]
  },
  {
   "cell_type": "markdown",
   "metadata": {},
   "source": [
    "### 2.1.1 Position vectors $\\mathbf{p}_i$\n",
    "The two rigid bodies of the cart-pole system are as the name suggests, the cart and the pole. The position vectors of the center of masses is found by the follwing expressions:\n",
    "\\begin{align}\n",
    "&\\mathbf{p}_0 = \\begin{pmatrix} x_0 \\\\ 0\\end{pmatrix} =\\begin{pmatrix} q_0 \\\\ 0\\end{pmatrix} & \\mathbf{p}_1 = \\begin{pmatrix} x_0 - a_1 \\sin \\varphi_1 \\\\ a_1 \\cos \\varphi_1\\end{pmatrix} = \\begin{pmatrix} q_0 - a_1 \\sin q_1 \\\\ a_1 \\cos q_1\\end{pmatrix}\n",
    "\\end{align}\n",
    "The position vectors are functions of the generalized coordinates."
   ]
  },
  {
   "cell_type": "code",
   "execution_count": 5,
   "metadata": {},
   "outputs": [
    {
     "data": {
      "image/png": "[encoded data removed]",
      "text/latex": [
       "$$\\left ( \\left[\\begin{matrix}\\operatorname{q_{0}}{\\left (t \\right )}\\\\0\\end{matrix}\\right], \\quad \\left[\\begin{matrix}- a_{1} \\sin{\\left (\\operatorname{q_{1}}{\\left (t \\right )} \\right )} + \\operatorname{q_{0}}{\\left (t \\right )}\\\\a_{1} \\cos{\\left (\\operatorname{q_{1}}{\\left (t \\right )} \\right )}\\end{matrix}\\right]\\right )$$"
      ],
      "text/plain": [
       "⎛⎡q₀(t)⎤  ⎡-a₁⋅sin(q₁(t)) + q₀(t)⎤⎞\n",
       "⎜⎢     ⎥, ⎢                      ⎥⎟\n",
       "⎝⎣  0  ⎦  ⎣    a₁⋅cos(q₁(t))     ⎦⎠"
      ]
     },
     "execution_count": 5,
     "metadata": {},
     "output_type": "execute_result"
    }
   ],
   "source": [
    "p0 = sp.Matrix([q0_t, 0])\n",
    "p1 = sp.Matrix([q0_t - a1*sin(q1_t), a1*cos(q1_t)])\n",
    "p0, p1"
   ]
  },
  {
   "cell_type": "markdown",
   "metadata": {},
   "source": [
    "### 2.1.2  Velocity vectors $\\dot{\\mathbf{p}}_i$"
   ]
  },
  {
   "cell_type": "markdown",
   "metadata": {},
   "source": [
    "The velocity vectors can be obtained by the time derivative.\n",
    "\\begin{align}\n",
    "&\\dot{\\mathbf{p}}_0 = \\begin{pmatrix} \\dot{x}_0 \\\\ 0\\end{pmatrix} =\\begin{pmatrix} \n",
    "\\dot{q}_0 \\\\ 0\\end{pmatrix} \n",
    "& \\dot{\\mathbf{p}}_1 = \\begin{pmatrix} \\dot{x}_0 - a_1 \\dot{\\varphi}_1 \\cos \\varphi_1 \n",
    "\\\\ - a_1 \\dot{\\varphi}_1 \\sin \\varphi_1\\end{pmatrix} \n",
    "= \\begin{pmatrix} \\dot{q}_0 - a_1 \\dot{q}_1 \\cos q_1 \\\\ - a_1 \\dot{q}_1 \\sin q_1\\end{pmatrix}\n",
    "\\end{align}"
   ]
  },
  {
   "cell_type": "code",
   "execution_count": 6,
   "metadata": {},
   "outputs": [
    {
     "data": {
      "image/png": "[encoded data removed]",
      "text/latex": [
       "$$\\left ( \\left[\\begin{matrix}\\frac{d}{d t} \\operatorname{q_{0}}{\\left (t \\right )}\\\\0\\end{matrix}\\right], \\quad \\left[\\begin{matrix}- a_{1} \\cos{\\left (\\operatorname{q_{1}}{\\left (t \\right )} \\right )} \\frac{d}{d t} \\operatorname{q_{1}}{\\left (t \\right )} + \\frac{d}{d t} \\operatorname{q_{0}}{\\left (t \\right )}\\\\- a_{1} \\sin{\\left (\\operatorname{q_{1}}{\\left (t \\right )} \\right )} \\frac{d}{d t} \\operatorname{q_{1}}{\\left (t \\right )}\\end{matrix}\\right]\\right )$$"
      ],
      "text/plain": [
       "⎛             ⎡                d           d        ⎤⎞\n",
       "⎜⎡d        ⎤  ⎢- a₁⋅cos(q₁(t))⋅──(q₁(t)) + ──(q₀(t))⎥⎟\n",
       "⎜⎢──(q₀(t))⎥  ⎢                dt          dt       ⎥⎟\n",
       "⎜⎢dt       ⎥, ⎢                                     ⎥⎟\n",
       "⎜⎢         ⎥  ⎢                     d               ⎥⎟\n",
       "⎜⎣    0    ⎦  ⎢      -a₁⋅sin(q₁(t))⋅──(q₁(t))       ⎥⎟\n",
       "⎝             ⎣                     dt              ⎦⎠"
      ]
     },
     "execution_count": 6,
     "metadata": {},
     "output_type": "execute_result"
    }
   ],
   "source": [
    "dp0 = p0.diff(t)\n",
    "dp1 = p1.diff(t)\n",
    "dp0, dp1"
   ]
  },
  {
   "cell_type": "markdown",
   "metadata": {},
   "source": [
    "### 2.1.3 Kinetic energy $T$\n",
    "The total kinetic energy of the system $T$ can be found by the sum of the kinetic energies $T_0$ and $T_1$ of the rigid bodies."
   ]
  },
  {
   "cell_type": "code",
   "execution_count": 7,
   "metadata": {},
   "outputs": [
    {
     "data": {
      "image/png": "[encoded data removed]",
      "text/latex": [
       "$$0.5 m_{0} \\left(\\frac{d}{d t} \\operatorname{q_{0}}{\\left (t \\right )}\\right)^{2}$$"
      ],
      "text/plain": [
       "                  2\n",
       "       ⎛d        ⎞ \n",
       "0.5⋅m₀⋅⎜──(q₀(t))⎟ \n",
       "       ⎝dt       ⎠ "
      ]
     },
     "execution_count": 7,
     "metadata": {},
     "output_type": "execute_result"
    }
   ],
   "source": [
    "T0 = 0.5 * m0 * (dp0.T*dp0)[0]\n",
    "T0"
   ]
  },
  {
   "cell_type": "code",
   "execution_count": 8,
   "metadata": {},
   "outputs": [
    {
     "data": {
      "image/png": "[encoded data removed]",
      "text/latex": [
       "$$0.5 J_{1} \\left(\\frac{d}{d t} \\operatorname{q_{1}}{\\left (t \\right )}\\right)^{2} + 0.5 m_{1} \\left(a_{1}^{2} \\sin^{2}{\\left (\\operatorname{q_{1}}{\\left (t \\right )} \\right )} \\left(\\frac{d}{d t} \\operatorname{q_{1}}{\\left (t \\right )}\\right)^{2} + \\left(- a_{1} \\cos{\\left (\\operatorname{q_{1}}{\\left (t \\right )} \\right )} \\frac{d}{d t} \\operatorname{q_{1}}{\\left (t \\right )} + \\frac{d}{d t} \\operatorname{q_{0}}{\\left (t \\right )}\\right)^{2}\\right)$$"
      ],
      "text/plain": [
       "                  2          ⎛                           2                    \n",
       "       ⎛d        ⎞           ⎜  2    2        ⎛d        ⎞    ⎛                \n",
       "0.5⋅J₁⋅⎜──(q₁(t))⎟  + 0.5⋅m₁⋅⎜a₁ ⋅sin (q₁(t))⋅⎜──(q₁(t))⎟  + ⎜- a₁⋅cos(q₁(t))⋅\n",
       "       ⎝dt       ⎠           ⎝                ⎝dt       ⎠    ⎝                \n",
       "\n",
       "                      2⎞\n",
       "d           d        ⎞ ⎟\n",
       "──(q₁(t)) + ──(q₀(t))⎟ ⎟\n",
       "dt          dt       ⎠ ⎠"
      ]
     },
     "execution_count": 8,
     "metadata": {},
     "output_type": "execute_result"
    }
   ],
   "source": [
    "T1 = 0.5 * m1 * (dp1.T*dp1)[0] + 0.5 * J1 * dq1_t**2\n",
    "T1"
   ]
  },
  {
   "cell_type": "code",
   "execution_count": 9,
   "metadata": {},
   "outputs": [
    {
     "data": {
      "image/png": "[encoded data removed]",
      "text/latex": [
       "$$0.5 J_{1} \\left(\\frac{d}{d t} \\operatorname{q_{1}}{\\left (t \\right )}\\right)^{2} + 0.5 m_{0} \\left(\\frac{d}{d t} \\operatorname{q_{0}}{\\left (t \\right )}\\right)^{2} + 0.5 m_{1} \\left(a_{1}^{2} \\sin^{2}{\\left (\\operatorname{q_{1}}{\\left (t \\right )} \\right )} \\left(\\frac{d}{d t} \\operatorname{q_{1}}{\\left (t \\right )}\\right)^{2} + \\left(- a_{1} \\cos{\\left (\\operatorname{q_{1}}{\\left (t \\right )} \\right )} \\frac{d}{d t} \\operatorname{q_{1}}{\\left (t \\right )} + \\frac{d}{d t} \\operatorname{q_{0}}{\\left (t \\right )}\\right)^{2}\\right)$$"
      ],
      "text/plain": [
       "                  2                     2          ⎛                          \n",
       "       ⎛d        ⎞           ⎛d        ⎞           ⎜  2    2        ⎛d        \n",
       "0.5⋅J₁⋅⎜──(q₁(t))⎟  + 0.5⋅m₀⋅⎜──(q₀(t))⎟  + 0.5⋅m₁⋅⎜a₁ ⋅sin (q₁(t))⋅⎜──(q₁(t))\n",
       "       ⎝dt       ⎠           ⎝dt       ⎠           ⎝                ⎝dt       \n",
       "\n",
       " 2                                          2⎞\n",
       "⎞    ⎛                d           d        ⎞ ⎟\n",
       "⎟  + ⎜- a₁⋅cos(q₁(t))⋅──(q₁(t)) + ──(q₀(t))⎟ ⎟\n",
       "⎠    ⎝                dt          dt       ⎠ ⎠"
      ]
     },
     "execution_count": 9,
     "metadata": {},
     "output_type": "execute_result"
    }
   ],
   "source": [
    "T = T0 + T1\n",
    "T"
   ]
  },
  {
   "cell_type": "markdown",
   "metadata": {},
   "source": [
    "### 2.1.3 Potential energy $V$\n",
    "The total potential energy of the system $V$ can be found by the sum of the kinetic energies $V_0$ and $V_1$ of the rigid bodies. Because $V_0=0$, $V = V_1$."
   ]
  },
  {
   "cell_type": "code",
   "execution_count": 10,
   "metadata": {},
   "outputs": [
    {
     "data": {
      "image/png": "[encoded data removed]",
      "text/latex": [
       "$$a_{1} g m_{1} \\cos{\\left (\\operatorname{q_{1}}{\\left (t \\right )} \\right )}$$"
      ],
      "text/plain": [
       "a₁⋅g⋅m₁⋅cos(q₁(t))"
      ]
     },
     "execution_count": 10,
     "metadata": {},
     "output_type": "execute_result"
    }
   ],
   "source": [
    "V = m1 * g * p1[1]\n",
    "V"
   ]
  },
  {
   "cell_type": "markdown",
   "metadata": {},
   "source": [
    "### 2.1.4 Lagrangian $L$\n",
    "The Lagrangian is defined as $L = T-V$"
   ]
  },
  {
   "cell_type": "code",
   "execution_count": 11,
   "metadata": {
    "scrolled": true
   },
   "outputs": [
    {
     "data": {
      "image/png": "[encoded data removed]",
      "text/latex": [
       "$$0.5 J_{1} \\left(\\frac{d}{d t} \\operatorname{q_{1}}{\\left (t \\right )}\\right)^{2} + 0.5 a_{1}^{2} m_{1} \\left(\\frac{d}{d t} \\operatorname{q_{1}}{\\left (t \\right )}\\right)^{2} - 1.0 a_{1} g m_{1} \\cos{\\left (\\operatorname{q_{1}}{\\left (t \\right )} \\right )} - 1.0 a_{1} m_{1} \\cos{\\left (\\operatorname{q_{1}}{\\left (t \\right )} \\right )} \\frac{d}{d t} \\operatorname{q_{0}}{\\left (t \\right )} \\frac{d}{d t} \\operatorname{q_{1}}{\\left (t \\right )} + 0.5 m_{0} \\left(\\frac{d}{d t} \\operatorname{q_{0}}{\\left (t \\right )}\\right)^{2} + 0.5 m_{1} \\left(\\frac{d}{d t} \\operatorname{q_{0}}{\\left (t \\right )}\\right)^{2}$$"
      ],
      "text/plain": [
       "                  2                         2                                 \n",
       "       ⎛d        ⎞          2    ⎛d        ⎞                                  \n",
       "0.5⋅J₁⋅⎜──(q₁(t))⎟  + 0.5⋅a₁ ⋅m₁⋅⎜──(q₁(t))⎟  - 1.0⋅a₁⋅g⋅m₁⋅cos(q₁(t)) - 1.0⋅a\n",
       "       ⎝dt       ⎠               ⎝dt       ⎠                                  \n",
       "\n",
       "                                                        2                     \n",
       "                d         d                  ⎛d        ⎞           ⎛d        ⎞\n",
       "₁⋅m₁⋅cos(q₁(t))⋅──(q₀(t))⋅──(q₁(t)) + 0.5⋅m₀⋅⎜──(q₀(t))⎟  + 0.5⋅m₁⋅⎜──(q₀(t))⎟\n",
       "                dt        dt                 ⎝dt       ⎠           ⎝dt       ⎠\n",
       "\n",
       "2\n",
       " \n",
       " \n",
       " "
      ]
     },
     "execution_count": 11,
     "metadata": {},
     "output_type": "execute_result"
    }
   ],
   "source": [
    "L = T - V\n",
    "L = L.expand()\n",
    "L = sp.trigsimp(L)\n",
    "L"
   ]
  },
  {
   "cell_type": "markdown",
   "metadata": {},
   "source": [
    "### 2.1.5 Lagrange's equation of the second kind\n",
    "To obtain the equations of motion, Lagrange's equation of the second kind is used:\n",
    "\\begin{align}\n",
    "\\frac{\\mathrm{d}}{\\mathrm{d} t}\\left(\\frac{\\partial L}{\\partial \\dot{q}_i}\\right) + \\frac{\\partial L}{\\partial q_i} = Q_i - D_i \n",
    "\\quad i = 0,1\\end{align}\n",
    "with the generalized forces $Q_i$.\n",
    "Substituting $L = T-V$ leads to:\n",
    "\\begin{align}\n",
    "\\frac{\\mathrm{d}}{\\mathrm{d} t}\\left(\\frac{\\partial T}{\\partial \\dot{q}_i} \\right) - \\frac{\\mathrm{d}}{\\mathrm{d} t}\\left(\\frac{\\partial V}{\\partial \\dot{q}_i}\\right) - \\frac{\\partial T}{\\partial q_i} + \\frac{\\partial V}{\\partial q_i} = Q_i\n",
    "\\quad i = 0,1\\end{align}\n",
    "For mechanical systems like the cart-pole system $\\frac{\\mathrm{d}}{\\mathrm{d} t}\\frac{\\partial V}{\\partial \\dot{q}_i} = 0$. The equation simplifies to:\n",
    "\\begin{align}\n",
    "\\frac{\\mathrm{d}}{\\mathrm{d} t}\\left(\\frac{\\partial T}{\\partial \\dot{q}_i}\\right) - \\frac{\\partial T}{\\partial q_i} + \\left(\\frac{\\partial V}{\\partial q_i}\\right) = Q_i\n",
    "\\quad i = 0,1 \n",
    "\\end{align}\n",
    "\n",
    "The generalized forces can be seperated to a term $\\mathbf{B}\\mathbf{\\tau}$ that expresses how the actuator forces $u$ act on the system and a term for the disspitave forces $\\mathbf{R}$:\n",
    "\\begin{align}\n",
    "(Q_0,...,Q_n)^\\textrm{T} = \\mathbf{B}\\mathbf{\\tau} - \\mathbf{R}\n",
    "\\end{align}\n",
    "\n",
    "For the cart-pole system one obtains: \n",
    "\\begin{align}\n",
    "Q_0 = F - \\frac{1}{2}d_0 \\dot{q}_0^2 \\qquad Q_1 = - \\frac{1}{2}d_1 \\dot{q}_1^2 \n",
    "\\end{align}"
   ]
  },
  {
   "cell_type": "code",
   "execution_count": 12,
   "metadata": {},
   "outputs": [],
   "source": [
    "Q0 = F - 0.5 * d0 * dq0_t**2"
   ]
  },
  {
   "cell_type": "code",
   "execution_count": 13,
   "metadata": {},
   "outputs": [],
   "source": [
    "Q1 =  - 0.5 * d1 * dq1_t**2"
   ]
  },
  {
   "cell_type": "code",
   "execution_count": 14,
   "metadata": {},
   "outputs": [],
   "source": [
    "Eq0 = L.diff(dq0_t,t) + L.diff(q0_t) - Q0 # = 0 "
   ]
  },
  {
   "cell_type": "code",
   "execution_count": 15,
   "metadata": {},
   "outputs": [],
   "source": [
    "Eq1 = L.diff(dq1_t,t) + L.diff(q1_t) - Q1 # = 0"
   ]
  },
  {
   "cell_type": "markdown",
   "metadata": {},
   "source": [
    "A mechanical system is described by the following equation:\n",
    "\\begin{align}\n",
    "\\mathbf{M}(\\mathbf{q})\\ddot{\\mathbf{q}}+\\mathbf{C}(\\mathbf{q},\\dot{\\mathbf{q}})+\\mathbf{K}(\\mathbf{q},\\dot{\\mathbf{q}}) - \\mathbf{B}(\\mathbf{q})\\mathbf{\\tau} = \\mathbf{0}\n",
    "\\end{align}\n",
    "\n",
    "$\\mathbf{M}$ - mass matrix\n",
    "\n",
    "$\\mathbf{C}$ - coriolis vector\n",
    "\n",
    "$\\mathbf{K}$ - vector containing potential energy terms and $\\mathbf{R}$\n",
    "\n",
    "This eqation is contained in the variable `Eq`."
   ]
  },
  {
   "cell_type": "code",
   "execution_count": 16,
   "metadata": {},
   "outputs": [
    {
     "data": {
      "image/png": "[encoded data removed]",
      "text/latex": [
       "$$\\left[\\begin{matrix}- F + 0.5 d_{0} \\left(\\frac{d}{d t} \\operatorname{q_{0}}{\\left (t \\right )}\\right)^{2} + 1.0 \\left(a_{1} m_{1} \\sin{\\left (\\operatorname{q_{1}}{\\left (t \\right )} \\right )} \\left(\\frac{d}{d t} \\operatorname{q_{1}}{\\left (t \\right )}\\right)^{2} - a_{1} m_{1} \\cos{\\left (\\operatorname{q_{1}}{\\left (t \\right )} \\right )} \\frac{d^{2}}{d t^{2}} \\operatorname{q_{1}}{\\left (t \\right )} + m_{0} \\frac{d^{2}}{d t^{2}} \\operatorname{q_{0}}{\\left (t \\right )} + m_{1} \\frac{d^{2}}{d t^{2}} \\operatorname{q_{0}}{\\left (t \\right )}\\right)\\\\1.0 a_{1} g m_{1} \\sin{\\left (\\operatorname{q_{1}}{\\left (t \\right )} \\right )} + 1.0 a_{1} m_{1} \\sin{\\left (\\operatorname{q_{1}}{\\left (t \\right )} \\right )} \\frac{d}{d t} \\operatorname{q_{0}}{\\left (t \\right )} \\frac{d}{d t} \\operatorname{q_{1}}{\\left (t \\right )} + 0.5 d_{1} \\left(\\frac{d}{d t} \\operatorname{q_{1}}{\\left (t \\right )}\\right)^{2} + 1.0 \\left(J_{1} \\frac{d^{2}}{d t^{2}} \\operatorname{q_{1}}{\\left (t \\right )} + a_{1}^{2} m_{1} \\frac{d^{2}}{d t^{2}} \\operatorname{q_{1}}{\\left (t \\right )} + a_{1} m_{1} \\sin{\\left (\\operatorname{q_{1}}{\\left (t \\right )} \\right )} \\frac{d}{d t} \\operatorname{q_{0}}{\\left (t \\right )} \\frac{d}{d t} \\operatorname{q_{1}}{\\left (t \\right )} - a_{1} m_{1} \\cos{\\left (\\operatorname{q_{1}}{\\left (t \\right )} \\right )} \\frac{d^{2}}{d t^{2}} \\operatorname{q_{0}}{\\left (t \\right )}\\right)\\end{matrix}\\right]$$"
      ],
      "text/plain": [
       "⎡                                                            2       ⎛        \n",
       "⎢                                                 ⎛d        ⎞        ⎜        \n",
       "⎢                                     -F + 0.5⋅d₀⋅⎜──(q₀(t))⎟  + 1.0⋅⎜a₁⋅m₁⋅si\n",
       "⎢                                                 ⎝dt       ⎠        ⎜        \n",
       "⎢                                                                    ⎝        \n",
       "⎢                                                                             \n",
       "⎢                                                                             \n",
       "⎢                                              d         d                  ⎛d\n",
       "⎢1.0⋅a₁⋅g⋅m₁⋅sin(q₁(t)) + 1.0⋅a₁⋅m₁⋅sin(q₁(t))⋅──(q₀(t))⋅──(q₁(t)) + 0.5⋅d₁⋅⎜─\n",
       "⎢                                              dt        dt                 ⎝d\n",
       "⎣                                                                             \n",
       "\n",
       "                    2                      2               2               2  \n",
       "         ⎛d        ⎞                      d               d               d   \n",
       "n(q₁(t))⋅⎜──(q₁(t))⎟  - a₁⋅m₁⋅cos(q₁(t))⋅───(q₁(t)) + m₀⋅───(q₀(t)) + m₁⋅───(q\n",
       "         ⎝dt       ⎠                       2               2               2  \n",
       "                                         dt              dt              dt   \n",
       "                                                                              \n",
       "         2       ⎛     2                   2                                  \n",
       "        ⎞        ⎜    d             2     d                            d      \n",
       "─(q₁(t))⎟  + 1.0⋅⎜J₁⋅───(q₁(t)) + a₁ ⋅m₁⋅───(q₁(t)) + a₁⋅m₁⋅sin(q₁(t))⋅──(q₀(t\n",
       "t       ⎠        ⎜     2                   2                           dt     \n",
       "                 ⎝   dt                  dt                                   \n",
       "\n",
       "     ⎞                                     ⎤\n",
       "     ⎟                                     ⎥\n",
       "₀(t))⎟                                     ⎥\n",
       "     ⎟                                     ⎥\n",
       "     ⎠                                     ⎥\n",
       "                                           ⎥\n",
       "                                  2       ⎞⎥\n",
       "   d                             d        ⎟⎥\n",
       "))⋅──(q₁(t)) - a₁⋅m₁⋅cos(q₁(t))⋅───(q₀(t))⎟⎥\n",
       "   dt                             2       ⎟⎥\n",
       "                                dt        ⎠⎦"
      ]
     },
     "execution_count": 16,
     "metadata": {},
     "output_type": "execute_result"
    }
   ],
   "source": [
    "Eq = sp.Matrix([Eq0,Eq1])\n",
    "Eq "
   ]
  },
  {
   "cell_type": "markdown",
   "metadata": {},
   "source": [
    "The mass matrix $\\mathbf{M}$ can be found by applying the differential operator \n",
    "$\\frac{\\mathrm{d}}{\\mathrm{d}\\mathbf{\\ddot{q}}}$ to `Eq`."
   ]
  },
  {
   "cell_type": "code",
   "execution_count": 17,
   "metadata": {},
   "outputs": [
    {
     "data": {
      "image/png": "[encoded data removed]",
      "text/latex": [
       "$$\\left[\\begin{matrix}1.0 m_{0} + 1.0 m_{1} & - 1.0 a_{1} m_{1} \\cos{\\left (\\operatorname{q_{1}}{\\left (t \\right )} \\right )}\\\\- 1.0 a_{1} m_{1} \\cos{\\left (\\operatorname{q_{1}}{\\left (t \\right )} \\right )} & 1.0 J_{1} + 1.0 a_{1}^{2} m_{1}\\end{matrix}\\right]$$"
      ],
      "text/plain": [
       "⎡   1.0⋅m₀ + 1.0⋅m₁     -1.0⋅a₁⋅m₁⋅cos(q₁(t))⎤\n",
       "⎢                                            ⎥\n",
       "⎢                                       2    ⎥\n",
       "⎣-1.0⋅a₁⋅m₁⋅cos(q₁(t))   1.0⋅J₁ + 1.0⋅a₁ ⋅m₁ ⎦"
      ]
     },
     "execution_count": 17,
     "metadata": {},
     "output_type": "execute_result"
    }
   ],
   "source": [
    "ddq_t = sp.Matrix([ddq0_t,ddq1_t])\n",
    "M = Eq.jacobian(ddq_t)\n",
    "M"
   ]
  },
  {
   "cell_type": "markdown",
   "metadata": {},
   "source": [
    "The matrix is always symmetric and invertible. Therefore an equation for $\\ddot{\\mathbf{q}}$ always exists.\n",
    "\\begin{align}\n",
    "\\ddot{\\mathbf{q}} = \\mathbf{M}^{-1}(\\mathbf{q})\\left(-\\mathbf{C}(\\mathbf{q},\\dot{\\mathbf{q}})-\\mathbf{K}(\\mathbf{q},\\dot{\\mathbf{q}}) + \\mathbf{B}(\\mathbf{q})\\mathbf{\\tau} \\right)\n",
    "\\end{align}"
   ]
  },
  {
   "cell_type": "code",
   "execution_count": 18,
   "metadata": {},
   "outputs": [
    {
     "data": {
      "image/png": "[encoded data removed]",
      "text/latex": [
       "$$\\left[\\begin{matrix}\\frac{1.0 a_{1} m_{1} \\left(- 1.0 a_{1} g m_{1} \\sin{\\left (\\operatorname{q_{1}}{\\left (t \\right )} \\right )} - 2.0 a_{1} m_{1} \\sin{\\left (\\operatorname{q_{1}}{\\left (t \\right )} \\right )} \\frac{d}{d t} \\operatorname{q_{0}}{\\left (t \\right )} \\frac{d}{d t} \\operatorname{q_{1}}{\\left (t \\right )} - 0.5 d_{1} \\left(\\frac{d}{d t} \\operatorname{q_{1}}{\\left (t \\right )}\\right)^{2}\\right) \\cos{\\left (\\operatorname{q_{1}}{\\left (t \\right )} \\right )}}{- 1.0 a_{1}^{2} m_{1}^{2} \\cos^{2}{\\left (\\operatorname{q_{1}}{\\left (t \\right )} \\right )} + \\left(1.0 J_{1} + 1.0 a_{1}^{2} m_{1}\\right) \\left(1.0 m_{0} + 1.0 m_{1}\\right)} + \\frac{\\left(1.0 J_{1} + 1.0 a_{1}^{2} m_{1}\\right) \\left(F - 1.0 a_{1} m_{1} \\sin{\\left (\\operatorname{q_{1}}{\\left (t \\right )} \\right )} \\left(\\frac{d}{d t} \\operatorname{q_{1}}{\\left (t \\right )}\\right)^{2} - 0.5 d_{0} \\left(\\frac{d}{d t} \\operatorname{q_{0}}{\\left (t \\right )}\\right)^{2}\\right)}{- 1.0 a_{1}^{2} m_{1}^{2} \\cos^{2}{\\left (\\operatorname{q_{1}}{\\left (t \\right )} \\right )} + \\left(1.0 J_{1} + 1.0 a_{1}^{2} m_{1}\\right) \\left(1.0 m_{0} + 1.0 m_{1}\\right)}\\\\\\frac{1.0 a_{1} m_{1} \\left(F - 1.0 a_{1} m_{1} \\sin{\\left (\\operatorname{q_{1}}{\\left (t \\right )} \\right )} \\left(\\frac{d}{d t} \\operatorname{q_{1}}{\\left (t \\right )}\\right)^{2} - 0.5 d_{0} \\left(\\frac{d}{d t} \\operatorname{q_{0}}{\\left (t \\right )}\\right)^{2}\\right) \\cos{\\left (\\operatorname{q_{1}}{\\left (t \\right )} \\right )}}{- 1.0 a_{1}^{2} m_{1}^{2} \\cos^{2}{\\left (\\operatorname{q_{1}}{\\left (t \\right )} \\right )} + \\left(1.0 J_{1} + 1.0 a_{1}^{2} m_{1}\\right) \\left(1.0 m_{0} + 1.0 m_{1}\\right)} + \\frac{\\left(1.0 m_{0} + 1.0 m_{1}\\right) \\left(- 1.0 a_{1} g m_{1} \\sin{\\left (\\operatorname{q_{1}}{\\left (t \\right )} \\right )} - 2.0 a_{1} m_{1} \\sin{\\left (\\operatorname{q_{1}}{\\left (t \\right )} \\right )} \\frac{d}{d t} \\operatorname{q_{0}}{\\left (t \\right )} \\frac{d}{d t} \\operatorname{q_{1}}{\\left (t \\right )} - 0.5 d_{1} \\left(\\frac{d}{d t} \\operatorname{q_{1}}{\\left (t \\right )}\\right)^{2}\\right)}{- 1.0 a_{1}^{2} m_{1}^{2} \\cos^{2}{\\left (\\operatorname{q_{1}}{\\left (t \\right )} \\right )} + \\left(1.0 J_{1} + 1.0 a_{1}^{2} m_{1}\\right) \\left(1.0 m_{0} + 1.0 m_{1}\\right)}\\end{matrix}\\right]$$"
      ],
      "text/plain": [
       "⎡          ⎛                                                                  \n",
       "⎢          ⎜                                               d         d        \n",
       "⎢1.0⋅a₁⋅m₁⋅⎜-1.0⋅a₁⋅g⋅m₁⋅sin(q₁(t)) - 2.0⋅a₁⋅m₁⋅sin(q₁(t))⋅──(q₀(t))⋅──(q₁(t))\n",
       "⎢          ⎝                                               dt        dt       \n",
       "⎢─────────────────────────────────────────────────────────────────────────────\n",
       "⎢                              2   2    2          ⎛               2   ⎞      \n",
       "⎢                      - 1.0⋅a₁ ⋅m₁ ⋅cos (q₁(t)) + ⎝1.0⋅J₁ + 1.0⋅a₁ ⋅m₁⎠⋅(1.0⋅\n",
       "⎢                                                                             \n",
       "⎢            ⎛                                    2                     2⎞    \n",
       "⎢            ⎜                         ⎛d        ⎞           ⎛d        ⎞ ⎟    \n",
       "⎢  1.0⋅a₁⋅m₁⋅⎜F - 1.0⋅a₁⋅m₁⋅sin(q₁(t))⋅⎜──(q₁(t))⎟  - 0.5⋅d₀⋅⎜──(q₀(t))⎟ ⎟⋅cos\n",
       "⎢            ⎝                         ⎝dt       ⎠           ⎝dt       ⎠ ⎠    \n",
       "⎢  ───────────────────────────────────────────────────────────────────────────\n",
       "⎢                 2   2    2          ⎛               2   ⎞                   \n",
       "⎣         - 1.0⋅a₁ ⋅m₁ ⋅cos (q₁(t)) + ⎝1.0⋅J₁ + 1.0⋅a₁ ⋅m₁⎠⋅(1.0⋅m₀ + 1.0⋅m₁) \n",
       "\n",
       "                     2⎞                                    ⎛                  \n",
       "          ⎛d        ⎞ ⎟              ⎛               2   ⎞ ⎜                  \n",
       " - 0.5⋅d₁⋅⎜──(q₁(t))⎟ ⎟⋅cos(q₁(t))   ⎝1.0⋅J₁ + 1.0⋅a₁ ⋅m₁⎠⋅⎜F - 1.0⋅a₁⋅m₁⋅sin(\n",
       "          ⎝dt       ⎠ ⎠                                    ⎝                  \n",
       "────────────────────────────────── + ─────────────────────────────────────────\n",
       "                                                     2   2    2          ⎛    \n",
       "m₀ + 1.0⋅m₁)                                 - 1.0⋅a₁ ⋅m₁ ⋅cos (q₁(t)) + ⎝1.0⋅\n",
       "                                                                              \n",
       "                            ⎛                                                 \n",
       "                            ⎜                                               d \n",
       "(q₁(t))   (1.0⋅m₀ + 1.0⋅m₁)⋅⎜-1.0⋅a₁⋅g⋅m₁⋅sin(q₁(t)) - 2.0⋅a₁⋅m₁⋅sin(q₁(t))⋅──\n",
       "                            ⎝                                               dt\n",
       "─────── + ────────────────────────────────────────────────────────────────────\n",
       "                                      2   2    2          ⎛               2   \n",
       "                              - 1.0⋅a₁ ⋅m₁ ⋅cos (q₁(t)) + ⎝1.0⋅J₁ + 1.0⋅a₁ ⋅m₁\n",
       "\n",
       "                  2                     2⎞⎤\n",
       "       ⎛d        ⎞           ⎛d        ⎞ ⎟⎥\n",
       "q₁(t))⋅⎜──(q₁(t))⎟  - 0.5⋅d₀⋅⎜──(q₀(t))⎟ ⎟⎥\n",
       "       ⎝dt       ⎠           ⎝dt       ⎠ ⎠⎥\n",
       "──────────────────────────────────────────⎥\n",
       "           2   ⎞                          ⎥\n",
       "J₁ + 1.0⋅a₁ ⋅m₁⎠⋅(1.0⋅m₀ + 1.0⋅m₁)        ⎥\n",
       "                                          ⎥\n",
       "                                      2⎞  ⎥\n",
       "        d                  ⎛d        ⎞ ⎟  ⎥\n",
       "(q₀(t))⋅──(q₁(t)) - 0.5⋅d₁⋅⎜──(q₁(t))⎟ ⎟  ⎥\n",
       "        dt                 ⎝dt       ⎠ ⎠  ⎥\n",
       "────────────────────────────────────────  ⎥\n",
       "⎞                                         ⎥\n",
       "⎠⋅(1.0⋅m₀ + 1.0⋅m₁)                       ⎦"
      ]
     },
     "execution_count": 18,
     "metadata": {},
     "output_type": "execute_result"
    }
   ],
   "source": [
    "q_zeros = [(ddq0_t, 0), (ddq1_t, 0)]\n",
    "ddq = M**-1 * -Eq.subs(q_zeros)\n",
    "ddq"
   ]
  },
  {
   "cell_type": "markdown",
   "metadata": {},
   "source": [
    "## 2.2 State Space Model\n",
    "An affine in the control, nonlinear system is given by the following equation:\n",
    "\\begin{align}\n",
    "\\dot{\\mathbf{x}}=\\mathbf{f}(\\mathbf{x})+\\mathbf{g}(\\mathbf{x})\\mathbf{u} \\qquad \\mathbf{x} \\textrm{ - state vector}, \\mathbf{u} \\textrm{ - control vector}\n",
    "\\end{align}\n",
    "\n",
    "To transform the system equations in state space form, the system equations $\\ddot{\\mathbf{q}}= \\mathbf{f}_{\\ddot{\\mathbf{q}}}(\\mathbf{q},\\dot{\\mathbf{q}}) + \\mathbf{g}_{\\ddot{\\mathbf{q}}}(\\mathbf{q})\\mathbf{\\tau}$, which are second order differential equations each have to be seperated to two differential equations of first order. This is done by introducing a state vector $\\mathbf{x}$ and a control vector $\\mathbf{u}$.\n",
    "\\begin{align}\n",
    "&\\mathbf{x} := \\begin{pmatrix} \\mathbf{q} \\\\ \\dot{\\mathbf{q}} \\end{pmatrix}\n",
    "&\\dot{\\mathbf{x}} = \\begin{pmatrix} \\dot{\\mathbf{q}} \\\\ \\ddot{\\mathbf{q}} \\end{pmatrix} \n",
    "&\\qquad \\mathbf{u} := \\mathbf{\\tau}\n",
    "\\end{align}\n",
    "Substituting $\\ddot{\\mathbf{q}}$, one obtains:\n",
    "\\begin{align}\n",
    "\\dot{\\mathbf{x}} = \\underbrace{\\begin{pmatrix} \\dot{\\mathbf{q}} \\\\ \\mathbf{f}_{\\ddot{\\mathbf{q}}}(\\mathbf{q},\\dot{\\mathbf{q}}) \\end{pmatrix}}_{=:\\mathbf{f}(\\mathbf{x})} + \\underbrace{\\begin{pmatrix} \\mathbf{0} \\\\ \\mathbf{g}_{\\ddot{\\mathbf{q}}}(\\mathbf{q}) \\end{pmatrix}}_{=:\\mathbf{g}(\\mathbf{x})}\\underbrace{\\mathbf{\\tau}}_{=:\\mathbf{u}}\n",
    "\\end{align}\n",
    "The result is a control-affine system, an inhomogenous, multi-dimensional first order differential equation in $\\mathbf{x}$."
   ]
  },
  {
   "cell_type": "markdown",
   "metadata": {},
   "source": [
    "### 2.2.1 Nonlinear system"
   ]
  },
  {
   "cell_type": "markdown",
   "metadata": {},
   "source": [
    "In the cart-pole case, $\\mathbf{q}$ is two dimensional, the state vector $\\mathbf{x}$ is therefore four dimensional:\n",
    "\\begin{align}\n",
    "\\mathbf{x} = \\begin{pmatrix}x_1 \\\\ x_2 \\\\ x_3 \\\\ x_4 \\end{pmatrix} = \\begin{pmatrix}q_0 \\\\ q_1 \\\\ \\dot q_0 \\\\ \\dot q_1 \\end{pmatrix}\n",
    "\\end{align}"
   ]
  },
  {
   "cell_type": "code",
   "execution_count": 19,
   "metadata": {},
   "outputs": [],
   "source": [
    "x1_t = sp.Function('x1')(t)\n",
    "x2_t = sp.Function('x2')(t)\n",
    "x3_t = sp.Function('x3')(t)\n",
    "x4_t = sp.Function('x4')(t)\n",
    "x_t = sp.Matrix([x1_t, x2_t, x3_t, x4_t])\n",
    "\n",
    "u_t = sp.Function('u')(t)"
   ]
  },
  {
   "cell_type": "markdown",
   "metadata": {},
   "source": [
    "$q_0,q_1$ and $\\dot q_0,\\dot q_1$ in $\\ddot{\\mathbf{q}}$ are replaced by $x_1, x_2$ and $x_3, x_4$. The force $F$ is replaced by the control input $u$."
   ]
  },
  {
   "cell_type": "code",
   "execution_count": 20,
   "metadata": {},
   "outputs": [
    {
     "data": {
      "image/png": "[encoded data removed]",
      "text/latex": [
       "$$\\left[\\begin{matrix}\\frac{1.0 \\left(a_{1} m_{1} \\left(1.0 a_{1} g m_{1} \\sin{\\left (\\operatorname{x_{2}}{\\left (t \\right )} \\right )} + 2.0 a_{1} m_{1} \\operatorname{x_{3}}{\\left (t \\right )} \\operatorname{x_{4}}{\\left (t \\right )} \\sin{\\left (\\operatorname{x_{2}}{\\left (t \\right )} \\right )} + 0.5 d_{1} \\operatorname{x_{4}}^{2}{\\left (t \\right )}\\right) \\cos{\\left (\\operatorname{x_{2}}{\\left (t \\right )} \\right )} + \\left(J_{1} + a_{1}^{2} m_{1}\\right) \\left(1.0 a_{1} m_{1} \\operatorname{x_{4}}^{2}{\\left (t \\right )} \\sin{\\left (\\operatorname{x_{2}}{\\left (t \\right )} \\right )} + 0.5 d_{0} \\operatorname{x_{3}}^{2}{\\left (t \\right )} - u{\\left (t \\right )}\\right)\\right)}{a_{1}^{2} m_{1}^{2} \\cos^{2}{\\left (\\operatorname{x_{2}}{\\left (t \\right )} \\right )} - \\left(J_{1} + a_{1}^{2} m_{1}\\right) \\left(m_{0} + m_{1}\\right)}\\\\\\frac{1.0 \\left(a_{1} m_{1} \\left(1.0 a_{1} m_{1} \\operatorname{x_{4}}^{2}{\\left (t \\right )} \\sin{\\left (\\operatorname{x_{2}}{\\left (t \\right )} \\right )} + 0.5 d_{0} \\operatorname{x_{3}}^{2}{\\left (t \\right )} - u{\\left (t \\right )}\\right) \\cos{\\left (\\operatorname{x_{2}}{\\left (t \\right )} \\right )} + \\left(m_{0} + m_{1}\\right) \\left(1.0 a_{1} g m_{1} \\sin{\\left (\\operatorname{x_{2}}{\\left (t \\right )} \\right )} + 2.0 a_{1} m_{1} \\operatorname{x_{3}}{\\left (t \\right )} \\operatorname{x_{4}}{\\left (t \\right )} \\sin{\\left (\\operatorname{x_{2}}{\\left (t \\right )} \\right )} + 0.5 d_{1} \\operatorname{x_{4}}^{2}{\\left (t \\right )}\\right)\\right)}{a_{1}^{2} m_{1}^{2} \\cos^{2}{\\left (\\operatorname{x_{2}}{\\left (t \\right )} \\right )} - \\left(J_{1} + a_{1}^{2} m_{1}\\right) \\left(m_{0} + m_{1}\\right)}\\end{matrix}\\right]$$"
      ],
      "text/plain": [
       "⎡    ⎛      ⎛                                                                 \n",
       "⎢1.0⋅⎝a₁⋅m₁⋅⎝1.0⋅a₁⋅g⋅m₁⋅sin(x₂(t)) + 2.0⋅a₁⋅m₁⋅x₃(t)⋅x₄(t)⋅sin(x₂(t)) + 0.5⋅d\n",
       "⎢─────────────────────────────────────────────────────────────────────────────\n",
       "⎢                                                               2   2    2    \n",
       "⎢                                                             a₁ ⋅m₁ ⋅cos (x₂(\n",
       "⎢                                                                             \n",
       "⎢      ⎛      ⎛            2                          2          ⎞            \n",
       "⎢  1.0⋅⎝a₁⋅m₁⋅⎝1.0⋅a₁⋅m₁⋅x₄ (t)⋅sin(x₂(t)) + 0.5⋅d₀⋅x₃ (t) - u(t)⎠⋅cos(x₂(t)) \n",
       "⎢  ───────────────────────────────────────────────────────────────────────────\n",
       "⎢                                                               2   2    2    \n",
       "⎣                                                             a₁ ⋅m₁ ⋅cos (x₂(\n",
       "\n",
       "    2   ⎞              ⎛       2   ⎞ ⎛            2                          2\n",
       "₁⋅x₄ (t)⎠⋅cos(x₂(t)) + ⎝J₁ + a₁ ⋅m₁⎠⋅⎝1.0⋅a₁⋅m₁⋅x₄ (t)⋅sin(x₂(t)) + 0.5⋅d₀⋅x₃ \n",
       "──────────────────────────────────────────────────────────────────────────────\n",
       "      ⎛       2   ⎞                                                           \n",
       "t)) - ⎝J₁ + a₁ ⋅m₁⎠⋅(m₀ + m₁)                                                 \n",
       "                                                                              \n",
       "            ⎛                                                                 \n",
       "+ (m₀ + m₁)⋅⎝1.0⋅a₁⋅g⋅m₁⋅sin(x₂(t)) + 2.0⋅a₁⋅m₁⋅x₃(t)⋅x₄(t)⋅sin(x₂(t)) + 0.5⋅d\n",
       "──────────────────────────────────────────────────────────────────────────────\n",
       "      ⎛       2   ⎞                                                           \n",
       "t)) - ⎝J₁ + a₁ ⋅m₁⎠⋅(m₀ + m₁)                                                 \n",
       "\n",
       "          ⎞⎞⎤\n",
       "(t) - u(t)⎠⎠⎥\n",
       "────────────⎥\n",
       "            ⎥\n",
       "            ⎥\n",
       "            ⎥\n",
       "    2   ⎞⎞  ⎥\n",
       "₁⋅x₄ (t)⎠⎠  ⎥\n",
       "──────────  ⎥\n",
       "            ⎥\n",
       "            ⎦"
      ]
     },
     "execution_count": 20,
     "metadata": {},
     "output_type": "execute_result"
    }
   ],
   "source": [
    "xu_subs = [(dq0_t, x3_t), (dq1_t, x4_t), (q0_t, x1_t), (q1_t, x2_t), (F, u_t)]\n",
    "ddq = ddq.subs(xu_subs)\n",
    "ddq = sp.simplify(ddq)\n",
    "ddq"
   ]
  },
  {
   "cell_type": "code",
   "execution_count": 21,
   "metadata": {},
   "outputs": [],
   "source": [
    "dx_t = sp.Matrix([x3_t, x4_t, ddq[0], ddq[1]])\n",
    "f = dx_t.subs([(u_t, 0)])\n",
    "g = (dx_t-f)/u_t"
   ]
  },
  {
   "cell_type": "markdown",
   "metadata": {},
   "source": [
    "## 2.3 System Analysis\n",
    "### 2.3.1 Equilibria\n",
    "An equilibrium is a point in the state space, where the trajectory of the system dynamics is constant. To find such a point, $\\dot{\\mathbf{x}}$ is set equal to the zero vector. The result is a nonlinear equation system:\n",
    "\\begin{align}\n",
    "\\mathbf{0} = \\mathbf{f}(\\mathbf{x}) + \\mathbf{g}(\\mathbf{x})\\mathbf{u}\n",
    "\\end{align}\n",
    "The equation is dependent on the control vector $\\mathbf{u}$. But for now, only the equlibria of the autonomous system $\\mathbf{f}(\\mathbf{x})$ are of interest, therefore $\\mathbf{u}:= \\mathbf{0}$.\n",
    "To find the equilibria $\\mathbf{x}_{0,i}(i = 1,2,...)$ of the autonoums system, the following nonlinear equation system has to be solved:\n",
    "\\begin{align}\n",
    "\\mathbf{0} = \\mathbf{f}(\\mathbf{x})\n",
    "\\end{align}"
   ]
  },
  {
   "cell_type": "code",
   "execution_count": 22,
   "metadata": {},
   "outputs": [
    {
     "data": {
      "image/png": "[encoded data removed]",
      "text/latex": [
       "$$\\left [ \\left ( \\operatorname{x_{1}}{\\left (t \\right )}, \\quad 0.0, \\quad 0.0, \\quad 0.0\\right ), \\quad \\left ( \\operatorname{x_{1}}{\\left (t \\right )}, \\quad 3.14159265358979, \\quad 0.0, \\quad 0.0\\right )\\right ]$$"
      ],
      "text/plain": [
       "[(x₁(t), 0.0, 0.0, 0.0), (x₁(t), 3.14159265358979, 0.0, 0.0)]"
      ]
     },
     "execution_count": 22,
     "metadata": {},
     "output_type": "execute_result"
    }
   ],
   "source": [
    "x0 = sp.solve(f,x_t)\n",
    "x0"
   ]
  },
  {
   "cell_type": "code",
   "execution_count": 23,
   "metadata": {},
   "outputs": [],
   "source": [
    "x0[1] = (x1_t, pi, 0, 0)"
   ]
  },
  {
   "cell_type": "markdown",
   "metadata": {},
   "source": [
    "The result are two equilbria $\\mathbf{x}_{0,1}$ and $\\mathbf{x}_{0,2}$ that are independent of the state variable $x_1$, the position of the cart. The two eqilibria are the pole in the upright and downright position at zero velocity of both cart and pole, as one would intuitively guess. But the equilibria of a system can not always be simply found by intuition, like in the cart-pole case, therefore the equilibria should always be found by the shown method."
   ]
  },
  {
   "cell_type": "markdown",
   "metadata": {},
   "source": [
    "### 2.3.2 Obtaining a linear state space model\n",
    "To obtain a linear state space model, a taylor expansion of the nonlinear equation is used. \n",
    "\\begin{align}\n",
    "\\dot{\\mathbf{x}}-\\dot{\\mathbf{x}}_{0,i} &\\approx \\underbrace{\\mathbf{f}(\\mathbf{x}_{0,i}) +\\mathbf{g}(\\mathbf{x}_{0,i})\\mathbf{u}_0}_{=0}\n",
    "+ \\underbrace{\\frac{\\partial}{\\partial \\mathbf{x}}\\left(\\mathbf{f}(\\mathbf{x}) +\\mathbf{g}(\\mathbf{x})\\mathbf{u}\\right)\\Big|_{\\substack{\\mathbf{u} = \\mathbf{u}_0 \\\\\\mathbf{x}=\\mathbf{x}_{0,i}}}}_{=:\\mathbf{A}_i}(\\mathbf{x}-\\mathbf{x}_{0,i})\n",
    "+ \\underbrace{\\frac{\\partial}{\\partial \\mathbf{u}}\\left(\\mathbf{f}(\\mathbf{x}) +\\mathbf{g}(\\mathbf{x})\\mathbf{u}\\right)\\Big|_{\\substack{\\mathbf{u} = \\mathbf{u}_0 \\\\\\mathbf{x}=\\mathbf{x}_{0,i}}}}_{=:\\mathbf{B}_i}(\\mathbf{u}-\\mathbf{u}_0)+\\mathcal{O}(2)\n",
    "\\end{align}\n",
    "First the linearization is done for the general case. Then, specific linear system matrices at the eqilibria are evaluated."
   ]
  },
  {
   "cell_type": "code",
   "execution_count": 24,
   "metadata": {},
   "outputs": [
    {
     "data": {
      "image/png": "[encoded data removed]",
      "text/latex": [
       "$$\\left ( \\left[\\begin{matrix}0 & 0 & 1 & 0\\\\0 & 0 & 0 & 1\\\\0 & \\frac{1.0 a_{1}^{2} g m_{1}^{2}}{a_{1}^{2} m_{1}^{2} - \\left(J_{1} + a_{1}^{2} m_{1}\\right) \\left(m_{0} + m_{1}\\right)} & 0 & 0\\\\0 & \\frac{1.0 a_{1} g m_{1} \\left(m_{0} + m_{1}\\right)}{a_{1}^{2} m_{1}^{2} - \\left(J_{1} + a_{1}^{2} m_{1}\\right) \\left(m_{0} + m_{1}\\right)} & 0 & 0\\end{matrix}\\right], \\quad \\left[\\begin{matrix}0 & 0 & 1 & 0\\\\0 & 0 & 0 & 1\\\\0 & \\frac{1.0 a_{1}^{2} g m_{1}^{2}}{a_{1}^{2} m_{1}^{2} - \\left(J_{1} + a_{1}^{2} m_{1}\\right) \\left(m_{0} + m_{1}\\right)} & 0 & 0\\\\0 & - \\frac{1.0 a_{1} g m_{1} \\left(m_{0} + m_{1}\\right)}{a_{1}^{2} m_{1}^{2} - \\left(J_{1} + a_{1}^{2} m_{1}\\right) \\left(m_{0} + m_{1}\\right)} & 0 & 0\\end{matrix}\\right], \\quad \\left[\\begin{matrix}0\\\\0\\\\\\frac{1.0 \\left(- J_{1} - a_{1}^{2} m_{1}\\right)}{a_{1}^{2} m_{1}^{2} - \\left(J_{1} + a_{1}^{2} m_{1}\\right) \\left(m_{0} + m_{1}\\right)}\\\\- \\frac{1.0 a_{1} m_{1}}{a_{1}^{2} m_{1}^{2} - \\left(J_{1} + a_{1}^{2} m_{1}\\right) \\left(m_{0} + m_{1}\\right)}\\end{matrix}\\right], \\quad \\left[\\begin{matrix}0\\\\0\\\\\\frac{1.0 \\left(- J_{1} - a_{1}^{2} m_{1}\\right)}{a_{1}^{2} m_{1}^{2} - \\left(J_{1} + a_{1}^{2} m_{1}\\right) \\left(m_{0} + m_{1}\\right)}\\\\\\frac{1.0 a_{1} m_{1}}{a_{1}^{2} m_{1}^{2} - \\left(J_{1} + a_{1}^{2} m_{1}\\right) \\left(m_{0} + m_{1}\\right)}\\end{matrix}\\right]\\right )$$"
      ],
      "text/plain": [
       "⎛⎡0                  0                  1  0⎤  ⎡0                  0          \n",
       "⎜⎢                                          ⎥  ⎢                              \n",
       "⎜⎢0                  0                  0  1⎥  ⎢0                  0          \n",
       "⎜⎢                                          ⎥  ⎢                              \n",
       "⎜⎢                   2     2                ⎥  ⎢                   2     2    \n",
       "⎜⎢             1.0⋅a₁ ⋅g⋅m₁                 ⎥  ⎢             1.0⋅a₁ ⋅g⋅m₁     \n",
       "⎜⎢0  ─────────────────────────────────  0  0⎥  ⎢0  ───────────────────────────\n",
       "⎜⎢     2   2   ⎛       2   ⎞                ⎥, ⎢     2   2   ⎛       2   ⎞    \n",
       "⎜⎢   a₁ ⋅m₁  - ⎝J₁ + a₁ ⋅m₁⎠⋅(m₀ + m₁)      ⎥  ⎢   a₁ ⋅m₁  - ⎝J₁ + a₁ ⋅m₁⎠⋅(m₀\n",
       "⎜⎢                                          ⎥  ⎢                              \n",
       "⎜⎢         1.0⋅a₁⋅g⋅m₁⋅(m₀ + m₁)            ⎥  ⎢        -1.0⋅a₁⋅g⋅m₁⋅(m₀ + m₁)\n",
       "⎜⎢0  ─────────────────────────────────  0  0⎥  ⎢0  ───────────────────────────\n",
       "⎜⎢     2   2   ⎛       2   ⎞                ⎥  ⎢     2   2   ⎛       2   ⎞    \n",
       "⎝⎣   a₁ ⋅m₁  - ⎝J₁ + a₁ ⋅m₁⎠⋅(m₀ + m₁)      ⎦  ⎣   a₁ ⋅m₁  - ⎝J₁ + a₁ ⋅m₁⎠⋅(m₀\n",
       "\n",
       "        1  0⎤  ⎡                0                ⎤  ⎡                0        \n",
       "            ⎥  ⎢                                 ⎥  ⎢                         \n",
       "        0  1⎥  ⎢                0                ⎥  ⎢                0        \n",
       "            ⎥  ⎢                                 ⎥  ⎢                         \n",
       "            ⎥  ⎢            ⎛        2   ⎞       ⎥  ⎢            ⎛        2   \n",
       "            ⎥  ⎢        1.0⋅⎝-J₁ - a₁ ⋅m₁⎠       ⎥  ⎢        1.0⋅⎝-J₁ - a₁ ⋅m₁\n",
       "──────  0  0⎥  ⎢─────────────────────────────────⎥  ⎢─────────────────────────\n",
       "            ⎥, ⎢  2   2   ⎛       2   ⎞          ⎥, ⎢  2   2   ⎛       2   ⎞  \n",
       " + m₁)      ⎥  ⎢a₁ ⋅m₁  - ⎝J₁ + a₁ ⋅m₁⎠⋅(m₀ + m₁)⎥  ⎢a₁ ⋅m₁  - ⎝J₁ + a₁ ⋅m₁⎠⋅(\n",
       "            ⎥  ⎢                                 ⎥  ⎢                         \n",
       "            ⎥  ⎢           -1.0⋅a₁⋅m₁            ⎥  ⎢            1.0⋅a₁⋅m₁    \n",
       "──────  0  0⎥  ⎢─────────────────────────────────⎥  ⎢─────────────────────────\n",
       "            ⎥  ⎢  2   2   ⎛       2   ⎞          ⎥  ⎢  2   2   ⎛       2   ⎞  \n",
       " + m₁)      ⎦  ⎣a₁ ⋅m₁  - ⎝J₁ + a₁ ⋅m₁⎠⋅(m₀ + m₁)⎦  ⎣a₁ ⋅m₁  - ⎝J₁ + a₁ ⋅m₁⎠⋅(\n",
       "\n",
       "        ⎤⎞\n",
       "        ⎥⎟\n",
       "        ⎥⎟\n",
       "        ⎥⎟\n",
       "⎞       ⎥⎟\n",
       "⎠       ⎥⎟\n",
       "────────⎥⎟\n",
       "        ⎥⎟\n",
       "m₀ + m₁)⎥⎟\n",
       "        ⎥⎟\n",
       "        ⎥⎟\n",
       "────────⎥⎟\n",
       "        ⎥⎟\n",
       "m₀ + m₁)⎦⎠"
      ]
     },
     "execution_count": 24,
     "metadata": {},
     "output_type": "execute_result"
    }
   ],
   "source": [
    "A = dx_t.jacobian(x_t)\n",
    "B = dx_t.diff(u_t)\n",
    "A1 = A.subs([(x_t[i], x0[0][i]) for i in range(0,4)]) # pole upright\n",
    "B1 = B.subs([(x_t[i], x0[0][i]) for i in range(0,4)]) # pole upright\n",
    "A2 = A.subs([(x_t[i], x0[1][i]) for i in range(0,4)]) # pole downright\n",
    "B2 = B.subs([(x_t[i], x0[1][i]) for i in range(0,4)]) # pole upright\n",
    "A1, A2, B1, B2"
   ]
  },
  {
   "cell_type": "markdown",
   "metadata": {},
   "source": [
    "### 2.3.3 Stability analysis at the equilibria"
   ]
  },
  {
   "cell_type": "markdown",
   "metadata": {},
   "source": [
    "An equilibrium is stable, if the system, starting from a small deviation in the state space from the eqilibrium, returns to it. If an equilibrium is stable or unstable is an important system property, that has to be analyzed. In order to analyze the equlibria, the system dynamics are linerized at these points. The result is an autonomous linear system $\\dot{\\mathbf{\\xi}} = \\mathbf{A}_i\\mathbf{\\xi}$. The properties of the equlibrium are encoded in the eigenvalues of the matrix $\\mathbf{A}$. To compute this matrix, we calculate the jacobian of $\\mathbf{f}(\\mathbf{x})$ with respect to $\\mathbf{x}$ at the equilibria $\\mathbf{x}_{0,i}$. $i=1,2$\n",
    "\\begin{align}\n",
    "\\mathbf{A}_i = \\frac{\\partial \\mathbf{f}(\\mathbf{x})}{\\partial(\\mathbf{x})}\\Big|_{\\mathbf{x}=\\mathbf{x}_{0,i}} \\quad i = 1,2\n",
    "\\end{align}"
   ]
  },
  {
   "cell_type": "code",
   "execution_count": 25,
   "metadata": {},
   "outputs": [
    {
     "data": {
      "image/png": "[encoded data removed]",
      "text/latex": [
       "$$\\left ( \\left \\{ 0 : 2, \\quad - \\sqrt{- \\frac{a_{1} g m_{1} \\left(m_{0} + m_{1}\\right)}{J_{1} m_{0} + J_{1} m_{1} + a_{1}^{2} m_{0} m_{1}}} : 1, \\quad \\sqrt{- \\frac{a_{1} g m_{1} \\left(m_{0} + m_{1}\\right)}{J_{1} m_{0} + J_{1} m_{1} + a_{1}^{2} m_{0} m_{1}}} : 1\\right \\}, \\quad \\left \\{ 0 : 2, \\quad - \\sqrt{\\frac{a_{1} g m_{1} \\left(m_{0} + m_{1}\\right)}{J_{1} m_{0} + J_{1} m_{1} + a_{1}^{2} m_{0} m_{1}}} : 1, \\quad \\sqrt{\\frac{a_{1} g m_{1} \\left(m_{0} + m_{1}\\right)}{J_{1} m_{0} + J_{1} m_{1} + a_{1}^{2} m_{0} m_{1}}} : 1\\right \\}\\right )$$"
      ],
      "text/plain": [
       "⎛⎧            ___________________________          ___________________________\n",
       "⎜⎪           ╱    -a₁⋅g⋅m₁⋅(m₀ + m₁)              ╱    -a₁⋅g⋅m₁⋅(m₀ + m₁)     \n",
       "⎜⎨0: 2, -   ╱  ───────────────────────── : 1,    ╱  ───────────────────────── \n",
       "⎜⎪         ╱                     2              ╱                     2       \n",
       "⎝⎩       ╲╱    J₁⋅m₀ + J₁⋅m₁ + a₁ ⋅m₀⋅m₁      ╲╱    J₁⋅m₀ + J₁⋅m₁ + a₁ ⋅m₀⋅m₁ \n",
       "\n",
       "   ⎫  ⎧            ___________________________          ______________________\n",
       "   ⎪  ⎪           ╱     a₁⋅g⋅m₁⋅(m₀ + m₁)              ╱     a₁⋅g⋅m₁⋅(m₀ + m₁)\n",
       ": 1⎬, ⎨0: 2, -   ╱  ───────────────────────── : 1,    ╱  ─────────────────────\n",
       "   ⎪  ⎪         ╱                     2              ╱                     2  \n",
       "   ⎭  ⎩       ╲╱    J₁⋅m₀ + J₁⋅m₁ + a₁ ⋅m₀⋅m₁      ╲╱    J₁⋅m₀ + J₁⋅m₁ + a₁ ⋅m\n",
       "\n",
       "_____   ⎫⎞\n",
       "        ⎪⎟\n",
       "──── : 1⎬⎟\n",
       "        ⎪⎟\n",
       "₀⋅m₁    ⎭⎠"
      ]
     },
     "execution_count": 25,
     "metadata": {},
     "output_type": "execute_result"
    }
   ],
   "source": [
    "eigvals1 = A1.eigenvals()\n",
    "eigvals2 = A2.eigenvals()\n",
    "eigvals1, eigvals2"
   ]
  },
  {
   "cell_type": "markdown",
   "metadata": {},
   "source": [
    "Both equilibria have two poles at $0$. The other two eigenvalues of $\\mathbf{A}_1$ are conjugate complex values without real part. Due to the positive eigenvalue of $\\mathbf{A}_2$, the system is unstable at $\\mathbf{x}_{0,2}$."
   ]
  },
  {
   "cell_type": "code",
   "execution_count": 26,
   "metadata": {},
   "outputs": [],
   "source": [
    "eigvects1 = A1.eigenvects()\n",
    "eigvects2 = A2.eigenvects()"
   ]
  },
  {
   "cell_type": "markdown",
   "metadata": {},
   "source": [
    "# WORK IN PROGRESS"
   ]
  }
 ],
 "metadata": {
  "kernelspec": {
   "display_name": "Python 3",
   "language": "python",
   "name": "python3"
  },
  "language_info": {
   "codemirror_mode": {
    "name": "ipython",
    "version": 3
   },
   "file_extension": ".py",
   "mimetype": "text/x-python",
   "name": "python",
   "nbconvert_exporter": "python",
   "pygments_lexer": "ipython3",
   "version": "3.6.3"
  }
 },
 "nbformat": 4,
 "nbformat_minor": 2
}
